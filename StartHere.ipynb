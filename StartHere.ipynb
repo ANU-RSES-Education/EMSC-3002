{
 "nbformat": 4,
 "nbformat_minor": 2,
 "metadata": {
  "language_info": {
   "name": "python",
   "codemirror_mode": {
    "name": "ipython",
    "version": 3
   },
   "version": "3.7.6-final"
  },
  "orig_nbformat": 2,
  "file_extension": ".py",
  "mimetype": "text/x-python",
  "name": "python",
  "npconvert_exporter": "python",
  "pygments_lexer": "ipython3",
  "version": 3,
  "kernelspec": {
   "name": "python37664bitbaseconda56fe6d69fc4741fdbf8bf1acb5c09fd6",
   "display_name": "Python 3.7.6 64-bit ('base': conda)"
  }
 },
 "cells": [
  {
   "cell_type": "markdown",
   "metadata": {},
   "source": [
    "## Examples\n",
    "\n",
    "  - [Example 1 - Stripy triangulations of the sphere](Example1-Stripy-Spherical-Triangulations.ipynb)\n",
    "  - [Example 2 - Stripy smoothing on the sphere](Example2-Stripy-Smoothing.ipynb)\n",
    "  - [Example 3 - Cartopy on-demand access to SRTM](Example3-Cartopy-WorkingWithShuttleRadarTopography.ipynb)\n",
    "  - [Example 4 - Cartopy and the litho 1.0 lithosphere model](Example4-Litho1pt0-Layers.ipynb)\n",
    "  "
   ]
  },
  {
   "cell_type": "code",
   "execution_count": null,
   "metadata": {},
   "outputs": [],
   "source": []
  }
 ]
}