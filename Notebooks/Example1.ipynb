{
 "cells": [
  {
   "cell_type": "markdown",
   "id": "induced-ordering",
   "metadata": {},
   "source": [
    "# Example notebook for deployment in jupyterbook\n",
    "\n",
    "`jupyter-book` will render a notebook in a recognisable form but which can include `myst` formating. It can also execute the cells if required and embed the results in the html pages. \n",
    "\n",
    "There is an option to use [binder](https://mybinder.org) to launch the notebook pages.\n",
    "\n",
    "`jupytext` makes `.md` and `.ipynb` files largely equivalent but it seems to be better for those notebooks which are designed to be used in a live environment to be `.ipynb`. The reason for that is the way that most current versions of jupyter lab do not open markdown documents as notebooks by default even though they can execute them. In a classroom, this is unnecessarily complicated. "
   ]
  },
  {
   "cell_type": "code",
   "execution_count": 1,
   "id": "dutch-kelly",
   "metadata": {},
   "outputs": [
    {
     "name": "stdout",
     "output_type": "stream",
     "text": [
      "Is pi actually a rational number ? - is it 3.141592653589793\n"
     ]
    }
   ],
   "source": [
    "import math\n",
    "\n",
    "n,d = math.pi.as_integer_ratio()\n",
    "\n",
    "print(\"Is pi actually a rational number ? - is it {}\".format(n/d))"
   ]
  },
  {
   "cell_type": "markdown",
   "id": "interested-plant",
   "metadata": {},
   "source": [
    "## Note\n",
    "\n",
    "\n",
    "This is an example of some `myst` markdown which looks odd in a notebook but fine in the rendered book. Beware !\n",
    "\n",
    "    ```{figure} images/LA_Region_ShadedRelief.png\n",
    "    ---\n",
    "    width: 80%\n",
    "    name: An exercise with `cartopy` !\n",
    "    ---\n",
    "    ``` \n",
    "    \n",
    "Rendered here:    \n",
    "\n",
    "```{figure} images/LA_Region_ShadedRelief.png\n",
    "---\n",
    "width: 80%\n",
    "name: An exercise with `cartopy` !\n",
    "---\n",
    "```\n",
    "\n",
    "\n"
   ]
  },
  {
   "cell_type": "code",
   "execution_count": 2,
   "id": "clean-antigua",
   "metadata": {},
   "outputs": [
    {
     "name": "stdout",
     "output_type": "stream",
     "text": [
      "Example1.ipynb  Example2.md     \u001b[34mFigures\u001b[m\u001b[m/        Index.md\n"
     ]
    }
   ],
   "source": [
    "%ls"
   ]
  },
  {
   "cell_type": "code",
   "execution_count": null,
   "id": "informal-award",
   "metadata": {},
   "outputs": [],
   "source": []
  }
 ],
 "metadata": {
  "kernelspec": {
   "display_name": "Python 3",
   "language": "python",
   "name": "python3"
  },
  "language_info": {
   "codemirror_mode": {
    "name": "ipython",
    "version": 3
   },
   "file_extension": ".py",
   "mimetype": "text/x-python",
   "name": "python",
   "nbconvert_exporter": "python",
   "pygments_lexer": "ipython3",
   "version": "3.7.10"
  }
 },
 "nbformat": 4,
 "nbformat_minor": 5
}
